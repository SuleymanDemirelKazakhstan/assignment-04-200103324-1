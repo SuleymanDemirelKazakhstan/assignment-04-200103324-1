{
 "cells": [
  {
   "cell_type": "code",
   "execution_count": 2,
   "metadata": {},
   "outputs": [],
   "source": [
    "import pandas as pd\n",
    "import numpy as np"
   ]
  },
  {
   "cell_type": "code",
   "execution_count": 1,
   "metadata": {},
   "outputs": [],
   "source": [
    "def sigmoid(x):\n",
    "    return 1/(1+np.exp(-x))"
   ]
  },
  {
   "cell_type": "code",
   "execution_count": 10,
   "metadata": {},
   "outputs": [],
   "source": [
    "    W_1 = [[0.2,0.4],[0.15,0.75],[0.3,0.01]]\n",
    "    W_2 = [[0.9,0.25,0.12],[0.99,0.01,0.5]]\n",
    "    x = np.array([[5,10, 1],[7,3,1],[100,5,1]])\n",
    "    Y = np.array([[1,0,0],[0,1,0],[0,0,1]])"
   ]
  },
  {
   "cell_type": "code",
   "execution_count": 11,
   "metadata": {},
   "outputs": [],
   "source": [
    "N = len(Y)"
   ]
  },
  {
   "cell_type": "code",
   "execution_count": 12,
   "metadata": {},
   "outputs": [],
   "source": [
    "h_in = np.dot(x, W_1)\n",
    "h_out = sigmoid(h_in)\n",
    "o_in = np.dot(h_out,W_2)\n",
    "o_out = sigmoid(o_in)"
   ]
  },
  {
   "cell_type": "code",
   "execution_count": 15,
   "metadata": {},
   "outputs": [
    {
     "name": "stdout",
     "output_type": "stream",
     "text": [
      "0.5496586693699429\n"
     ]
    }
   ],
   "source": [
    "mse = ((o_out - Y)**2).sum()/(2*N)\n",
    "print(mse)"
   ]
  },
  {
   "cell_type": "code",
   "execution_count": 16,
   "metadata": {},
   "outputs": [],
   "source": [
    "#backpropagation\n",
    "learning_rate = 0.2\n",
    "\n",
    "o_error = o_out-Y\n",
    "o_delta = o_error * o_out*(1-o_out)\n",
    "w2_upd = np.dot(h_out.T, o_delta)/N\n",
    "\n",
    "W_2 = W_2 - learning_rate * w2_upd\n",
    "\n",
    "h_error = np.dot(o_delta, W_2.T)\n",
    "h_delta = h_error * h_out*(1-h_out)\n",
    "w1_upd = np.dot(x.T, h_delta)/N\n",
    "\n",
    "W_1 = W_1 - learning_rate * w1_upd"
   ]
  },
  {
   "cell_type": "code",
   "execution_count": 17,
   "metadata": {},
   "outputs": [
    {
     "name": "stdout",
     "output_type": "stream",
     "text": [
      "0.5449227468084691\n"
     ]
    }
   ],
   "source": [
    "h_in = np.dot(x, W_1)\n",
    "h_out = sigmoid(h_in)\n",
    "o_in = np.dot(h_out,W_2)\n",
    "o_out = sigmoid(o_in)\n",
    "\n",
    "mse = ((o_out - Y)**2).sum()/(2*N)\n",
    "print(mse)"
   ]
  }
 ],
 "metadata": {
  "kernelspec": {
   "display_name": "Python 3.10.2 64-bit",
   "language": "python",
   "name": "python3"
  },
  "language_info": {
   "codemirror_mode": {
    "name": "ipython",
    "version": 3
   },
   "file_extension": ".py",
   "mimetype": "text/x-python",
   "name": "python",
   "nbconvert_exporter": "python",
   "pygments_lexer": "ipython3",
   "version": "3.10.2"
  },
  "orig_nbformat": 4,
  "vscode": {
   "interpreter": {
    "hash": "99e63af33600a000c27b10c081bdf61f1ca1d34494ff2b581ff0eff5775ea056"
   }
  }
 },
 "nbformat": 4,
 "nbformat_minor": 2
}
